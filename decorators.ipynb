{
 "cells": [
  {
   "cell_type": "markdown",
   "metadata": {},
   "source": [
    "# Python Decorators"
   ]
  },
  {
   "cell_type": "markdown",
   "metadata": {},
   "source": [
    "Los decoradores de Python son una característica poderosa que te permite modificar el comportamiento de una función o una clase sin cambiar su código fuente. Básicamente, son funciones que toman otra función como argumento y devuelven una nueva función que envuelve a la original. De esta manera, puedes agregar funcionalidad o lógica adicional a la función original sin modificarla. Por ejemplo, supongamos que tienes una función que imprime un mensaje en la consola:"
   ]
  },
  {
   "cell_type": "code",
   "execution_count": 1,
   "metadata": {},
   "outputs": [],
   "source": [
    "def hello():\n",
    "    print(\"Hello, World!\")"
   ]
  },
  {
   "cell_type": "code",
   "execution_count": 2,
   "metadata": {},
   "outputs": [
    {
     "name": "stdout",
     "output_type": "stream",
     "text": [
      "Hello, World!\n"
     ]
    }
   ],
   "source": [
    "hello()"
   ]
  },
  {
   "cell_type": "markdown",
   "metadata": {},
   "source": [
    "Ahora, supón que quieres medir cuanto tiempo tarda esta función en ejecutarse. Podrías escribir una nueva función que use el módulo time para calcular el tiempo de ejecución y luego llamar a la función original:"
   ]
  },
  {
   "cell_type": "code",
   "execution_count": 3,
   "metadata": {},
   "outputs": [],
   "source": [
    "import time\n",
    "\n",
    "def measure_time(func):\n",
    "    def wrapper():\n",
    "        # Inicio\n",
    "        start = time.time()\n",
    "        # Ejecucion de la funcion \n",
    "        func()\n",
    "        # Fin\n",
    "        end = time.time()\n",
    "        print(f\"Tiempo de Ejecución: {end - start} seconds\")\n",
    "    return wrapper"
   ]
  },
  {
   "cell_type": "markdown",
   "metadata": {},
   "source": [
    "Fíjate como la función ```measure_time()``` regresa otra función llamada wrapper, la cual es un una versión modificada de la función original La función wrapper hace dos cosas: graba los tiempos de ejecución iniciales y finales y manda a llamar a la función original\n",
    "\n",
    "Ahora, para usar esta función, tu podrías hacer algo como esto:\n"
   ]
  },
  {
   "cell_type": "code",
   "execution_count": 4,
   "metadata": {},
   "outputs": [
    {
     "name": "stdout",
     "output_type": "stream",
     "text": [
      "Hello, World!\n",
      "Tiempo de Ejecución: 0.0 seconds\n"
     ]
    }
   ],
   "source": [
    "hello = measure_time(hello)\n",
    "hello()"
   ]
  },
  {
   "cell_type": "markdown",
   "metadata": {},
   "source": [
    "Como puedes ver, hemos añadido de manera exitosa una funcionalidad extra a la función hello sin cambiar su código. Sin embargo, existe una manera más elegante y concisa de hacer esto y eso es usando decoradores. Los decoradores son herramientas que te permiten aplicar una función a otra, usando el símbolo @. Por ejemplo, podemos reescribir el código anterior de la siguiente manera."
   ]
  },
  {
   "cell_type": "code",
   "execution_count": 5,
   "metadata": {},
   "outputs": [
    {
     "name": "stdout",
     "output_type": "stream",
     "text": [
      "Hello, World!\n",
      "Tiempo de Ejecución: 0.0 seconds\n"
     ]
    }
   ],
   "source": [
    "@measure_time\n",
    "def hello():\n",
    "    print(\"Hello, World!\")\n",
    "\n",
    "hello()"
   ]
  },
  {
   "cell_type": "markdown",
   "metadata": {},
   "source": [
    "Esto tendrá como resultado el mismo output que habíamos tenido anteriormente, pero con mucho menos código, la línea @measure_time es equivalente a poner ```hello = measure_time(hello)```, Pero se ve mucho más limpio y es más sencillo de entender"
   ]
  },
  {
   "cell_type": "markdown",
   "metadata": {},
   "source": [
    "# ¿Por qué usar Decorators?"
   ]
  },
  {
   "cell_type": "markdown",
   "metadata": {},
   "source": [
    "Los decoradores de Python son útiles por muchas razones, como por ejemplo:"
   ]
  },
  {
   "cell_type": "markdown",
   "metadata": {},
   "source": [
    "- Te permiten reutilizar Código, evitando ser muy repetitive. Por ejemplo, si tienes muchas funciones que necesiten medir su tiempo de ejecución, tu puedes simplemente aplicar el mismo decorador a todas en lugar de escribir el mismo código una y otra vez.\n",
    "\n",
    "- Te permiten separar tareas y seguir el principio de responsabilidad única. Por ejemplo, si tienes una función que realiza algún cálculo complejo, puedes usar un decorador para manejar el registro, el manejo de errores, el almacenamiento en caché o la validación de la entrada y salida, sin abrumar la lógica principal de la función.\n",
    "\n",
    "- Permiten ampliar la funcionalidad de funciones o clases existentes sin modificar su código fuente. Por ejemplo, si estás utilizando una biblioteca de terceros que proporciona algunas funciones o clases útiles, pero deseas agregar algunas características o comportamientos adicionales, puedes utilizar decoradores para envolverlos y personalizarlos según tus necesidades."
   ]
  },
  {
   "cell_type": "markdown",
   "metadata": {},
   "source": [
    "# Algunos Ejemplos de decoradores"
   ]
  },
  {
   "cell_type": "markdown",
   "metadata": {},
   "source": [
    "Existen varios decoradores por defecto en Python, como @staticmethod, @classmethod, @property, @functools.lru_cache, @functools.singledispatch, etc. También puedes crear tus propios decoradores, con características propias. Aquí tienes algunos ejemplos:"
   ]
  },
  {
   "cell_type": "markdown",
   "metadata": {},
   "source": [
    "## Decorador @timer\n",
    "\n",
    "Este decorador es como el @measure_time que vimos anteriormente, pero puede aplicarse a cualquier función que toma cualquier número de argumentos y regresa cualquier valor. También usa el decorador functools.wraps para preservar el nombre y docstring de la función original, aquí está el código:"
   ]
  },
  {
   "cell_type": "code",
   "execution_count": 6,
   "metadata": {},
   "outputs": [],
   "source": [
    "import time\n",
    "from functools import wraps\n",
    "\n",
    "def timer(func):\n",
    "    @wraps(func)\n",
    "    def wrapper(*args, **kwargs):\n",
    "        start_time = time.time()\n",
    "        result = func(*args, **kwargs)\n",
    "        elapsed_time = time.time() - start_time\n",
    "        print(\"Function [%s] took %s seconds\" % (func.__name__, elapsed_time ))\n",
    "        return result\n",
    "    return wrapper"
   ]
  },
  {
   "cell_type": "markdown",
   "metadata": {},
   "source": [
    "Ahora puedes usar este decorador para medir el tiempo de ejecución de cualquier función, por ejemplo:"
   ]
  },
  {
   "cell_type": "code",
   "execution_count": 7,
   "metadata": {},
   "outputs": [
    {
     "name": "stdout",
     "output_type": "stream",
     "text": [
      "Function [factorial] took 0.0 seconds\n",
      "Function [factorial] took 0.0 seconds\n",
      "Function [factorial] took 0.0 seconds\n",
      "Function [factorial] took 0.0 seconds\n",
      "Function [factorial] took 0.0 seconds\n",
      "Function [factorial] took 0.0 seconds\n",
      "Function [factorial] took 0.0 seconds\n",
      "Function [factorial] took 0.0 seconds\n",
      "Function [factorial] took 0.0 seconds\n",
      "Function [factorial] took 0.0 seconds\n",
      "3628800\n"
     ]
    }
   ],
   "source": [
    "@timer\n",
    "def factorial(n):\n",
    "    \"\"\"Return the factorial of n\"\"\"\n",
    "    if n == 0 or n == 1:\n",
    "        return 1\n",
    "    else:\n",
    "        return n * factorial(n-1)\n",
    "    \n",
    "print(factorial(10))"
   ]
  },
  {
   "cell_type": "code",
   "execution_count": 8,
   "metadata": {},
   "outputs": [
    {
     "name": "stdout",
     "output_type": "stream",
     "text": [
      "Function [fibonacci] took 0.0 seconds\n",
      "Function [fibonacci] took 0.0 seconds\n",
      "Function [fibonacci] took 0.0 seconds\n",
      "Function [fibonacci] took 0.0 seconds\n",
      "Function [fibonacci] took 0.0 seconds\n",
      "Function [fibonacci] took 0.0 seconds\n",
      "Function [fibonacci] took 0.0 seconds\n",
      "Function [fibonacci] took 0.0 seconds\n",
      "Function [fibonacci] took 0.0 seconds\n",
      "Function [fibonacci] took 0.0 seconds\n",
      "Function [fibonacci] took 0.0 seconds\n",
      "Function [fibonacci] took 0.0 seconds\n",
      "Function [fibonacci] took 0.0 seconds\n",
      "Function [fibonacci] took 0.0 seconds\n",
      "Function [fibonacci] took 0.0 seconds\n",
      "Function [fibonacci] took 0.0 seconds\n",
      "Function [fibonacci] took 0.0 seconds\n",
      "Function [fibonacci] took 0.0 seconds\n",
      "Function [fibonacci] took 0.0 seconds\n",
      "Function [fibonacci] took 0.0 seconds\n",
      "Function [fibonacci] took 0.0 seconds\n",
      "Function [fibonacci] took 0.0 seconds\n",
      "Function [fibonacci] took 0.0 seconds\n",
      "Function [fibonacci] took 0.0 seconds\n",
      "Function [fibonacci] took 0.0 seconds\n",
      "Function [fibonacci] took 0.0 seconds\n",
      "Function [fibonacci] took 0.0 seconds\n",
      "Function [fibonacci] took 0.0 seconds\n",
      "Function [fibonacci] took 0.0 seconds\n",
      "Function [fibonacci] took 0.0 seconds\n",
      "Function [fibonacci] took 0.0 seconds\n",
      "Function [fibonacci] took 0.0 seconds\n",
      "Function [fibonacci] took 0.0 seconds\n",
      "Function [fibonacci] took 0.0 seconds\n",
      "Function [fibonacci] took 0.0 seconds\n",
      "Function [fibonacci] took 0.0 seconds\n",
      "Function [fibonacci] took 0.0 seconds\n",
      "Function [fibonacci] took 0.0 seconds\n",
      "Function [fibonacci] took 0.0 seconds\n",
      "Function [fibonacci] took 0.0 seconds\n",
      "Function [fibonacci] took 0.0 seconds\n",
      "Function [fibonacci] took 0.0 seconds\n",
      "Function [fibonacci] took 0.0 seconds\n",
      "Function [fibonacci] took 0.0 seconds\n",
      "Function [fibonacci] took 0.0 seconds\n",
      "Function [fibonacci] took 0.0 seconds\n",
      "Function [fibonacci] took 0.0 seconds\n",
      "Function [fibonacci] took 0.0 seconds\n",
      "Function [fibonacci] took 0.0010044574737548828 seconds\n",
      "Function [fibonacci] took 0.0010044574737548828 seconds\n",
      "Function [fibonacci] took 0.0 seconds\n",
      "Function [fibonacci] took 0.0 seconds\n",
      "Function [fibonacci] took 0.0 seconds\n",
      "Function [fibonacci] took 0.0 seconds\n",
      "Function [fibonacci] took 0.0 seconds\n",
      "Function [fibonacci] took 0.0010044574737548828 seconds\n",
      "Function [fibonacci] took 0.0 seconds\n",
      "Function [fibonacci] took 0.0 seconds\n",
      "Function [fibonacci] took 0.0 seconds\n",
      "Function [fibonacci] took 0.0 seconds\n",
      "Function [fibonacci] took 0.0 seconds\n",
      "Function [fibonacci] took 0.0 seconds\n",
      "Function [fibonacci] took 0.0 seconds\n",
      "Function [fibonacci] took 0.0 seconds\n",
      "Function [fibonacci] took 0.0 seconds\n",
      "Function [fibonacci] took 0.0010044574737548828 seconds\n",
      "Function [fibonacci] took 0.0010044574737548828 seconds\n",
      "Function [fibonacci] took 0.0 seconds\n",
      "Function [fibonacci] took 0.0 seconds\n",
      "Function [fibonacci] took 0.0 seconds\n",
      "Function [fibonacci] took 0.0 seconds\n",
      "Function [fibonacci] took 0.0 seconds\n",
      "Function [fibonacci] took 0.0 seconds\n",
      "Function [fibonacci] took 0.0 seconds\n",
      "Function [fibonacci] took 0.0 seconds\n",
      "Function [fibonacci] took 0.0 seconds\n",
      "Function [fibonacci] took 0.0 seconds\n",
      "Function [fibonacci] took 0.0 seconds\n",
      "Function [fibonacci] took 0.0 seconds\n",
      "Function [fibonacci] took 0.0 seconds\n",
      "Function [fibonacci] took 0.0 seconds\n",
      "Function [fibonacci] took 0.0 seconds\n",
      "Function [fibonacci] took 0.0 seconds\n",
      "Function [fibonacci] took 0.0 seconds\n",
      "Function [fibonacci] took 0.0 seconds\n",
      "Function [fibonacci] took 0.0 seconds\n",
      "Function [fibonacci] took 0.0 seconds\n",
      "Function [fibonacci] took 0.0 seconds\n",
      "Function [fibonacci] took 0.0 seconds\n",
      "Function [fibonacci] took 0.0 seconds\n",
      "Function [fibonacci] took 0.0 seconds\n",
      "Function [fibonacci] took 0.0 seconds\n",
      "Function [fibonacci] took 0.0 seconds\n",
      "Function [fibonacci] took 0.0 seconds\n",
      "Function [fibonacci] took 0.0 seconds\n",
      "Function [fibonacci] took 0.0 seconds\n",
      "Function [fibonacci] took 0.0 seconds\n",
      "Function [fibonacci] took 0.0 seconds\n",
      "Function [fibonacci] took 0.0 seconds\n",
      "Function [fibonacci] took 0.0 seconds\n",
      "Function [fibonacci] took 0.0 seconds\n",
      "Function [fibonacci] took 0.0 seconds\n",
      "Function [fibonacci] took 0.0 seconds\n",
      "Function [fibonacci] took 0.0 seconds\n",
      "Function [fibonacci] took 0.0 seconds\n",
      "Function [fibonacci] took 0.0 seconds\n",
      "Function [fibonacci] took 0.0 seconds\n",
      "Function [fibonacci] took 0.0 seconds\n",
      "Function [fibonacci] took 0.0010044574737548828 seconds\n",
      "Function [fibonacci] took 0.0 seconds\n",
      "Function [fibonacci] took 0.0 seconds\n",
      "Function [fibonacci] took 0.0 seconds\n",
      "Function [fibonacci] took 0.0 seconds\n",
      "Function [fibonacci] took 0.0 seconds\n",
      "Function [fibonacci] took 0.0 seconds\n",
      "Function [fibonacci] took 0.0 seconds\n",
      "Function [fibonacci] took 0.0 seconds\n",
      "Function [fibonacci] took 0.0 seconds\n",
      "Function [fibonacci] took 0.0 seconds\n",
      "Function [fibonacci] took 0.0 seconds\n",
      "Function [fibonacci] took 0.0 seconds\n",
      "Function [fibonacci] took 0.0 seconds\n",
      "Function [fibonacci] took 0.0 seconds\n",
      "Function [fibonacci] took 0.0 seconds\n",
      "Function [fibonacci] took 0.0 seconds\n",
      "Function [fibonacci] took 0.0 seconds\n",
      "Function [fibonacci] took 0.0 seconds\n",
      "Function [fibonacci] took 0.0 seconds\n",
      "Function [fibonacci] took 0.0 seconds\n",
      "Function [fibonacci] took 0.0 seconds\n",
      "Function [fibonacci] took 0.0 seconds\n",
      "Function [fibonacci] took 0.0 seconds\n",
      "Function [fibonacci] took 0.0 seconds\n",
      "Function [fibonacci] took 0.0 seconds\n",
      "Function [fibonacci] took 0.0 seconds\n",
      "Function [fibonacci] took 0.0 seconds\n",
      "Function [fibonacci] took 0.0 seconds\n",
      "Function [fibonacci] took 0.0 seconds\n",
      "Function [fibonacci] took 0.0 seconds\n",
      "Function [fibonacci] took 0.0 seconds\n",
      "Function [fibonacci] took 0.0 seconds\n",
      "Function [fibonacci] took 0.0 seconds\n",
      "Function [fibonacci] took 0.0 seconds\n",
      "Function [fibonacci] took 0.0 seconds\n",
      "Function [fibonacci] took 0.0 seconds\n",
      "Function [fibonacci] took 0.0 seconds\n",
      "Function [fibonacci] took 0.0 seconds\n",
      "Function [fibonacci] took 0.0 seconds\n",
      "Function [fibonacci] took 0.0 seconds\n",
      "Function [fibonacci] took 0.0 seconds\n",
      "Function [fibonacci] took 0.0 seconds\n",
      "Function [fibonacci] took 0.0 seconds\n",
      "Function [fibonacci] took 0.0 seconds\n",
      "Function [fibonacci] took 0.0 seconds\n",
      "Function [fibonacci] took 0.0 seconds\n",
      "Function [fibonacci] took 0.0 seconds\n",
      "Function [fibonacci] took 0.0 seconds\n",
      "Function [fibonacci] took 0.0 seconds\n",
      "Function [fibonacci] took 0.0 seconds\n",
      "Function [fibonacci] took 0.0 seconds\n",
      "Function [fibonacci] took 0.0 seconds\n",
      "Function [fibonacci] took 0.0 seconds\n",
      "Function [fibonacci] took 0.0 seconds\n",
      "Function [fibonacci] took 0.0 seconds\n",
      "Function [fibonacci] took 0.0 seconds\n",
      "Function [fibonacci] took 0.0 seconds\n",
      "Function [fibonacci] took 0.0 seconds\n",
      "Function [fibonacci] took 0.0 seconds\n",
      "Function [fibonacci] took 0.0 seconds\n",
      "Function [fibonacci] took 0.0 seconds\n",
      "Function [fibonacci] took 0.0 seconds\n",
      "Function [fibonacci] took 0.0 seconds\n",
      "Function [fibonacci] took 0.0 seconds\n",
      "Function [fibonacci] took 0.0 seconds\n",
      "Function [fibonacci] took 0.0 seconds\n",
      "Function [fibonacci] took 0.0 seconds\n",
      "Function [fibonacci] took 0.0010044574737548828 seconds\n"
     ]
    },
    {
     "data": {
      "text/plain": [
       "55"
      ]
     },
     "execution_count": 8,
     "metadata": {},
     "output_type": "execute_result"
    }
   ],
   "source": [
    "@timer\n",
    "def fibonacci(n):\n",
    "    \"\"\"Returns the nth Fibonacci number\"\"\"\n",
    "    if n == 0 or n==1 :\n",
    "        return n\n",
    "    else:\n",
    "        return  fibonacci(n-1) + fibonacci(n-2)\n",
    "    \n",
    "fibonacci(10)"
   ]
  },
  {
   "cell_type": "markdown",
   "metadata": {},
   "source": [
    "## El decorador @debug"
   ]
  },
  {
   "cell_type": "markdown",
   "metadata": {},
   "source": [
    "Este decorador es útil para propósitos de debuggeo, imprime el nombre, argumentos y regresa el valor de la función que envuelve. También usa el decorador functools.wraps para preservar el nombre y docstring de la función original, aquí está el código:"
   ]
  },
  {
   "cell_type": "code",
   "execution_count": 9,
   "metadata": {},
   "outputs": [],
   "source": [
    "from functools import wraps\n",
    "def debug(func):\n",
    "    @wraps(func)\n",
    "    def wrapper(*args, **kwargs):\n",
    "        print(\"Calling function {} with args={}, kwargs={}\".format(\n",
    "            func.__name__, args, kwargs))\n",
    "        result = func( *args, **kwargs)\n",
    "        print(\"Function returned {}\".format(result))\n",
    "        return result\n",
    "    return wrapper"
   ]
  },
  {
   "cell_type": "markdown",
   "metadata": {},
   "source": [
    "Ahora, tú puedes usar este decorador para debuggear cualquier función, por ejemplo:"
   ]
  },
  {
   "cell_type": "code",
   "execution_count": 10,
   "metadata": {},
   "outputs": [
    {
     "name": "stdout",
     "output_type": "stream",
     "text": [
      "Calling function add with args=(2, 3), kwargs={}\n",
      "Function returned 5\n"
     ]
    },
    {
     "data": {
      "text/plain": [
       "5"
      ]
     },
     "execution_count": 10,
     "metadata": {},
     "output_type": "execute_result"
    }
   ],
   "source": [
    "@debug\n",
    "def add(x,y):\n",
    "    \"Returns the sum of x and y\"\n",
    "    return x+y\n",
    "add(2,3)"
   ]
  },
  {
   "cell_type": "code",
   "execution_count": 11,
   "metadata": {},
   "outputs": [
    {
     "name": "stdout",
     "output_type": "stream",
     "text": [
      "Calling function greet with args=('Alice',), kwargs={}\n",
      "Function returned Hello, Alice!\n"
     ]
    },
    {
     "data": {
      "text/plain": [
       "'Hello, Alice!'"
      ]
     },
     "execution_count": 11,
     "metadata": {},
     "output_type": "execute_result"
    }
   ],
   "source": [
    "@debug\n",
    "def greet(name, messsage=\"Hello\"):\n",
    "    \"\"\"Return a greeting message with the name\"\"\"\n",
    "    return f\"{messsage}, {name}!\"\n",
    "\n",
    "greet( \"Alice\")  # Output: Hello, Alice!"
   ]
  },
  {
   "cell_type": "code",
   "execution_count": 12,
   "metadata": {},
   "outputs": [
    {
     "name": "stdout",
     "output_type": "stream",
     "text": [
      "Calling function greet with args=('Bob',), kwargs={'messsage': 'Hi'}\n",
      "Function returned Hi, Bob!\n"
     ]
    },
    {
     "data": {
      "text/plain": [
       "'Hi, Bob!'"
      ]
     },
     "execution_count": 12,
     "metadata": {},
     "output_type": "execute_result"
    }
   ],
   "source": [
    "greet(\"Bob\",messsage=\"Hi\")"
   ]
  },
  {
   "cell_type": "markdown",
   "metadata": {},
   "source": [
    "## El decorador @memoize\n",
    "\n",
    "Este es útil para optimizar el rendimiento de funciones recursivas o con un alto coste computacional, ya que guarda los resultados de llamadas anteriores y devuelve el resultado cuando se le suministran los mismos parámetros de nueva cuenta. También usa el decorador functools.wraps para preservar el nombre y docstring de la función original, aquí está el código:"
   ]
  },
  {
   "cell_type": "code",
   "execution_count": 13,
   "metadata": {},
   "outputs": [],
   "source": [
    "from functools import wraps \n",
    "\n",
    "def memoize(func):\n",
    "    cache = {}\n",
    "    @wraps(func)\n",
    "    def wrapper(*args):\n",
    "        if args in cache:\n",
    "            return cache[args]\n",
    "        else:\n",
    "            result = func(*args)\n",
    "            cache[args] = result\n",
    "            return result\n",
    "    return wrapper    \n",
    "    "
   ]
  },
  {
   "cell_type": "markdown",
   "metadata": {},
   "source": [
    "Aqui un ejemplo:"
   ]
  },
  {
   "cell_type": "code",
   "execution_count": 14,
   "metadata": {},
   "outputs": [
    {
     "name": "stdout",
     "output_type": "stream",
     "text": [
      "Function [factorial] took 0.0 seconds\n",
      "Function [factorial] took 0.0 seconds\n",
      "Function [factorial] took 0.0 seconds\n",
      "Function [factorial] took 0.0 seconds\n",
      "Function [factorial] took 0.0 seconds\n",
      "Function [factorial] took 0.0 seconds\n",
      "Function [factorial] took 0.0 seconds\n",
      "Function [factorial] took 0.0 seconds\n",
      "Function [factorial] took 0.0 seconds\n",
      "Function [factorial] took 0.0 seconds\n"
     ]
    },
    {
     "data": {
      "text/plain": [
       "3628800"
      ]
     },
     "execution_count": 14,
     "metadata": {},
     "output_type": "execute_result"
    }
   ],
   "source": [
    "@timer\n",
    "@memoize\n",
    "def factorial(n):\n",
    "    \"\"\"REturns the factorial of n\"\"\"\n",
    "    if n == 0 or n == 1:\n",
    "        return 1\n",
    "    else:\n",
    "        return n * factorial(n - 1)\n",
    "    \n",
    "factorial(10)"
   ]
  },
  {
   "cell_type": "code",
   "execution_count": null,
   "metadata": {},
   "outputs": [],
   "source": []
  }
 ],
 "metadata": {
  "kernelspec": {
   "display_name": "venv",
   "language": "python",
   "name": "python3"
  },
  "language_info": {
   "codemirror_mode": {
    "name": "ipython",
    "version": 3
   },
   "file_extension": ".py",
   "mimetype": "text/x-python",
   "name": "python",
   "nbconvert_exporter": "python",
   "pygments_lexer": "ipython3",
   "version": "3.11.6"
  }
 },
 "nbformat": 4,
 "nbformat_minor": 2
}
